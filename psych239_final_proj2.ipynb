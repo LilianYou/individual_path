{
  "nbformat": 4,
  "nbformat_minor": 0,
  "metadata": {
    "colab": {
      "name": "psych239_final_proj2.ipynb",
      "provenance": [],
      "collapsed_sections": [],
      "authorship_tag": "ABX9TyMed76nQnKesdtI/kgFbarH",
      "include_colab_link": true
    },
    "kernelspec": {
      "name": "python3",
      "display_name": "Python 3"
    }
  },
  "cells": [
    {
      "cell_type": "markdown",
      "metadata": {
        "id": "view-in-github",
        "colab_type": "text"
      },
      "source": [
        "<a href=\"https://colab.research.google.com/github/LilianYou/individual_path/blob/master/psych239_final_proj2.ipynb\" target=\"_parent\"><img src=\"https://colab.research.google.com/assets/colab-badge.svg\" alt=\"Open In Colab\"/></a>"
      ]
    },
    {
      "cell_type": "code",
      "metadata": {
        "id": "tukAwps8niMD",
        "colab_type": "code",
        "colab": {
          "base_uri": "https://localhost:8080/",
          "height": 80
        },
        "outputId": "27006f87-2fe1-4c45-89d0-8fff94b4367e"
      },
      "source": [
        "import tensorflow as tf\n",
        "from tensorflow.keras.models import Sequential\n",
        "from tensorflow.keras.layers import Dense, Conv2D, Flatten, Dropout, MaxPooling2D\n",
        "from tensorflow.keras.preprocessing.image import ImageDataGenerator\n",
        "\n",
        "import os\n",
        "import numpy as np\n",
        "import matplotlib.pyplot as plt"
      ],
      "execution_count": 1,
      "outputs": [
        {
          "output_type": "display_data",
          "data": {
            "text/html": [
              "<p style=\"color: red;\">\n",
              "The default version of TensorFlow in Colab will soon switch to TensorFlow 2.x.<br>\n",
              "We recommend you <a href=\"https://www.tensorflow.org/guide/migrate\" target=\"_blank\">upgrade</a> now \n",
              "or ensure your notebook will continue to use TensorFlow 1.x via the <code>%tensorflow_version 1.x</code> magic:\n",
              "<a href=\"https://colab.research.google.com/notebooks/tensorflow_version.ipynb\" target=\"_blank\">more info</a>.</p>\n"
            ],
            "text/plain": [
              "<IPython.core.display.HTML object>"
            ]
          },
          "metadata": {
            "tags": []
          }
        }
      ]
    },
    {
      "cell_type": "code",
      "metadata": {
        "id": "QaGr4P66lkwm",
        "colab_type": "code",
        "outputId": "c2bec310-0cbc-4b3a-fdf3-8fce4eb9e084",
        "colab": {
          "base_uri": "https://localhost:8080/",
          "height": 122
        }
      },
      "source": [
        "from google.colab import drive\n",
        "drive.mount('/content/gdrive')\n",
        "#drive.mount('/content/gdrive', force_remount=True) # if files in the google drive is updated"
      ],
      "execution_count": 2,
      "outputs": [
        {
          "output_type": "stream",
          "text": [
            "Go to this URL in a browser: https://accounts.google.com/o/oauth2/auth?client_id=947318989803-6bn6qk8qdgf4n4g3pfee6491hc0brc4i.apps.googleusercontent.com&redirect_uri=urn%3aietf%3awg%3aoauth%3a2.0%3aoob&response_type=code&scope=email%20https%3a%2f%2fwww.googleapis.com%2fauth%2fdocs.test%20https%3a%2f%2fwww.googleapis.com%2fauth%2fdrive%20https%3a%2f%2fwww.googleapis.com%2fauth%2fdrive.photos.readonly%20https%3a%2f%2fwww.googleapis.com%2fauth%2fpeopleapi.readonly\n",
            "\n",
            "Enter your authorization code:\n",
            "··········\n",
            "Mounted at /content/gdrive\n"
          ],
          "name": "stdout"
        }
      ]
    },
    {
      "cell_type": "markdown",
      "metadata": {
        "id": "Gb5SZL7Grj8O",
        "colab_type": "text"
      },
      "source": [
        "Step 1. Read raw data from google drive\n"
      ]
    },
    {
      "cell_type": "code",
      "metadata": {
        "id": "xU75lhKllv2m",
        "colab_type": "code",
        "outputId": "e38f4d3f-8088-47b4-891b-991f95c977fe",
        "colab": {
          "base_uri": "https://localhost:8080/",
          "height": 34
        }
      },
      "source": [
        "# please share the drive folder by using \"https://drive.google.com/open?id=13tXB6uLEg60Tl01sSNlP7hthITKdgKiw\"\n",
        "!ls /content/gdrive/'My Drive'/psych239_project  # check data"
      ],
      "execution_count": 3,
      "outputs": [
        {
          "output_type": "stream",
          "text": [
            "Lily_and_Carol\n"
          ],
          "name": "stdout"
        }
      ]
    },
    {
      "cell_type": "code",
      "metadata": {
        "id": "3_j9S8_UmNxl",
        "colab_type": "code",
        "colab": {}
      },
      "source": [
        "# define path\n",
        "PATH = \"./gdrive/My Drive/psych239_project/Lily_and_Carol\""
      ],
      "execution_count": 0,
      "outputs": []
    },
    {
      "cell_type": "code",
      "metadata": {
        "id": "f2LrBDA_oG5Q",
        "colab_type": "code",
        "colab": {}
      },
      "source": [
        "train_dir = os.path.join(PATH, 'train')\n",
        "validation_dir = os.path.join(PATH, 'validation')"
      ],
      "execution_count": 0,
      "outputs": []
    },
    {
      "cell_type": "code",
      "metadata": {
        "id": "LzOAorzXof9p",
        "colab_type": "code",
        "colab": {}
      },
      "source": [
        "# define sub_directory\n",
        "train_lily_dir = os.path.join(train_dir, 'Lily')  # directory with our training Lily's data\n",
        "train_carol_dir = os.path.join(train_dir, 'Carol')  # directory with our training Carol's data\n",
        "validation_lily_dir = os.path.join(validation_dir, 'Lily')  # directory with our validation Lily's data\n",
        "validation_carol_dir = os.path.join(validation_dir, 'Carol')  # directory with our validation Carol's data"
      ],
      "execution_count": 0,
      "outputs": []
    },
    {
      "cell_type": "markdown",
      "metadata": {
        "id": "biM_nt4wrtri",
        "colab_type": "text"
      },
      "source": [
        "Step 2. Process raw data into images"
      ]
    },
    {
      "cell_type": "code",
      "metadata": {
        "id": "Y6yUTvuIsrLP",
        "colab_type": "code",
        "colab": {}
      },
      "source": [
        "import json"
      ],
      "execution_count": 0,
      "outputs": []
    },
    {
      "cell_type": "code",
      "metadata": {
        "id": "59tPNQ09MGFM",
        "colab_type": "code",
        "colab": {}
      },
      "source": [
        "!mkdir data # store images\n",
        "!mkdir data/train\n",
        "!mkdir data/validation\n"
      ],
      "execution_count": 0,
      "outputs": []
    },
    {
      "cell_type": "code",
      "metadata": {
        "id": "6r1B0kqMEsJW",
        "colab_type": "code",
        "colab": {}
      },
      "source": [
        "#data = []\n",
        "def mkdata(directory):\n",
        "  title_split = np.char.split(directory,'Lily_and_Carol/') # make new sub-directories\n",
        "  new_dir = os.path.join('/content/data', title_split.item(0)[1])\n",
        "  os.mkdir(new_dir)\n",
        "  \n",
        "  for filename in os.listdir(directory):\n",
        "    if filename.endswith(\"json\"): # read json files\n",
        "        print(filename)\n",
        "        fullname = os.path.join(directory, filename)\n",
        "        with open(fullname) as f:\n",
        "           data = json.load(f)\n",
        "        player_dat = data['player']     # extract coordinates from json files\n",
        "        x_dat = np.zeros(len(player_dat))\n",
        "        y_dat = np.zeros(len(player_dat))\n",
        "\n",
        "        for i in range(len(player_dat)):\n",
        "          #print(i)\n",
        "          x_dat[i] = player_dat[i]['x']\n",
        "          y_dat[i] = player_dat[i]['y']\n",
        "          #print(x_dat[i])\n",
        "        plt.scatter(x_dat, y_dat)   # plot travel trajectory and save as plots in new directory\n",
        "        plt.gcf()\n",
        "        plt.draw()\n",
        "        filename_split = np.char.split(filename,'.json')\n",
        "        plot_dir = os.path.join(new_dir,filename_split.item(0)[0]) # image name is the same as json file\n",
        "        plt.savefig(plot_dir, dpi=100)\n",
        "        plt.show()\n",
        "        #data.append(filename)"
      ],
      "execution_count": 0,
      "outputs": []
    },
    {
      "cell_type": "code",
      "metadata": {
        "id": "ukli_e1tLh5m",
        "colab_type": "code",
        "outputId": "6629ab4a-e596-4e79-af5a-8bd4d7b8ae96",
        "colab": {
          "base_uri": "https://localhost:8080/",
          "height": 1000
        }
      },
      "source": [
        "mkdata(train_carol_dir)\n",
        "mkdata(train_lily_dir)\n",
        "mkdata(validation_carol_dir)\n",
        "mkdata(validation_lily_dir)"
      ],
      "execution_count": 10,
      "outputs": [
        {
          "output_type": "stream",
          "text": [
            "level001_attempt001_id002.json\n"
          ],
          "name": "stdout"
        },
        {
          "output_type": "display_data",
          "data": {
            "image/png": "[encoded data removed]",
            "text/plain": [
              "<Figure size 432x288 with 1 Axes>"
            ]
          },
          "metadata": {
            "tags": []
          }
        },
        {
          "output_type": "stream",
          "text": [
            "level002_attempt001_id003.json\n"
          ],
          "name": "stdout"
        },
        {
          "output_type": "display_data",
          "data": {
            "image/png": "[encoded data removed]",
            "text/plain": [
              "<Figure size 432x288 with 1 Axes>"
            ]
          },
          "metadata": {
            "tags": []
          }
        },
        {
          "output_type": "stream",
          "text": [
            "level003_attempt001_id004.json\n"
          ],
          "name": "stdout"
        },
        {
          "output_type": "display_data",
          "data": {
            "image/png": "[encoded data removed]",
            "text/plain": [
              "<Figure size 432x288 with 1 Axes>"
            ]
          },
          "metadata": {
            "tags": []
          }
        },
        {
          "output_type": "stream",
          "text": [
            "level011_attempt001_id001.json\n"
          ],
          "name": "stdout"
        },
        {
          "output_type": "display_data",
          "data": {
            "image/png": "[encoded data removed]",
            "text/plain": [
              "<Figure size 432x288 with 1 Axes>"
            ]
          },
          "metadata": {
            "tags": []
          }
        },
        {
          "output_type": "stream",
          "text": [
            "level001_attempt001_id012.json\n"
          ],
          "name": "stdout"
        },
        {
          "output_type": "display_data",
          "data": {
            "image/png": "[encoded data removed]",
            "text/plain": [
              "<Figure size 432x288 with 1 Axes>"
            ]
          },
          "metadata": {
            "tags": []
          }
        },
        {
          "output_type": "stream",
          "text": [
            "level002_attempt001_id010.json\n"
          ],
          "name": "stdout"
        },
        {
          "output_type": "display_data",
          "data": {
            "image/png": "[encoded data removed]",
            "text/plain": [
              "<Figure size 432x288 with 1 Axes>"
            ]
          },
          "metadata": {
            "tags": []
          }
        },
        {
          "output_type": "stream",
          "text": [
            "level003_attempt001_id002.json\n"
          ],
          "name": "stdout"
        },
        {
          "output_type": "display_data",
          "data": {
            "image/png": "[encoded data removed]",
            "text/plain": [
              "<Figure size 432x288 with 1 Axes>"
            ]
          },
          "metadata": {
            "tags": []
          }
        },
        {
          "output_type": "stream",
          "text": [
            "level011_attempt001_id007.json\n"
          ],
          "name": "stdout"
        },
        {
          "output_type": "display_data",
          "data": {
            "image/png": "[encoded data removed]",
            "text/plain": [
              "<Figure size 432x288 with 1 Axes>"
            ]
          },
          "metadata": {
            "tags": []
          }
        },
        {
          "output_type": "stream",
          "text": [
            "level006_attempt001_id007.json\n"
          ],
          "name": "stdout"
        },
        {
          "output_type": "display_data",
          "data": {
            "image/png": "[encoded data removed]",
            "text/plain": [
              "<Figure size 432x288 with 1 Axes>"
            ]
          },
          "metadata": {
            "tags": []
          }
        },
        {
          "output_type": "stream",
          "text": [
            "level008_attempt001_id006.json\n"
          ],
          "name": "stdout"
        },
        {
          "output_type": "display_data",
          "data": {
            "image/png": "[encoded data removed]",
            "text/plain": [
              "<Figure size 432x288 with 1 Axes>"
            ]
          },
          "metadata": {
            "tags": []
          }
        },
        {
          "output_type": "stream",
          "text": [
            "level006_attempt001_id005.json\n"
          ],
          "name": "stdout"
        },
        {
          "output_type": "display_data",
          "data": {
            "image/png": "[encoded data removed]",
            "text/plain": [
              "<Figure size 432x288 with 1 Axes>"
            ]
          },
          "metadata": {
            "tags": []
          }
        },
        {
          "output_type": "stream",
          "text": [
            "level007_attempt001_id008.json\n"
          ],
          "name": "stdout"
        },
        {
          "output_type": "display_data",
          "data": {
            "image/png": "[encoded data removed]",
            "text/plain": [
              "<Figure size 432x288 with 1 Axes>"
            ]
          },
          "metadata": {
            "tags": []
          }
        },
        {
          "output_type": "stream",
          "text": [
            "level008_attempt001_id011.json\n"
          ],
          "name": "stdout"
        },
        {
          "output_type": "display_data",
          "data": {
            "image/png": "[encoded data removed]",
            "text/plain": [
              "<Figure size 432x288 with 1 Axes>"
            ]
          },
          "metadata": {
            "tags": []
          }
        },
        {
          "output_type": "stream",
          "text": [
            "level013_attempt001_id004.json\n"
          ],
          "name": "stdout"
        },
        {
          "output_type": "display_data",
          "data": {
            "image/png": "[encoded data removed]",
            "text/plain": [
              "<Figure size 432x288 with 1 Axes>"
            ]
          },
          "metadata": {
            "tags": []
          }
        },
        {
          "output_type": "stream",
          "text": [
            "level012_attempt001_id000.json\n"
          ],
          "name": "stdout"
        },
        {
          "output_type": "display_data",
          "data": {
            "image/png": "[encoded data removed]",
            "text/plain": [
              "<Figure size 432x288 with 1 Axes>"
            ]
          },
          "metadata": {
            "tags": []
          }
        }
      ]
    },
    {
      "cell_type": "markdown",
      "metadata": {
        "id": "eLv3K0CJnckK",
        "colab_type": "text"
      },
      "source": [
        "Step 3. Read images for classification\n"
      ]
    },
    {
      "cell_type": "code",
      "metadata": {
        "colab_type": "code",
        "id": "NW282FD7oytV",
        "colab": {}
      },
      "source": [
        "# define path\n",
        "PATH = \"./data\""
      ],
      "execution_count": 0,
      "outputs": []
    },
    {
      "cell_type": "code",
      "metadata": {
        "colab_type": "code",
        "id": "bRec5p9cpAit",
        "colab": {}
      },
      "source": [
        "train_dir_new = os.path.join(PATH, 'train')\n",
        "validation_dir_new  = os.path.join(PATH, 'validation')"
      ],
      "execution_count": 0,
      "outputs": []
    },
    {
      "cell_type": "code",
      "metadata": {
        "colab_type": "code",
        "id": "k4BEwBTEpG_M",
        "colab": {}
      },
      "source": [
        "# define sub_directory\n",
        "train_lily_dir_new  = os.path.join(train_dir_new , 'Lily')  # directory with our training Lily's data\n",
        "train_carol_dir_new  = os.path.join(train_dir_new , 'Carol')  # directory with our training Carol's data\n",
        "validation_lily_dir_new  = os.path.join(validation_dir_new , 'Lily')  # directory with our validation Lily's data\n",
        "validation_carol_dir_new  = os.path.join(validation_dir_new , 'Carol')  # directory with our validation Carol's data"
      ],
      "execution_count": 0,
      "outputs": []
    },
    {
      "cell_type": "code",
      "metadata": {
        "id": "xCABJT_2qHiC",
        "colab_type": "code",
        "colab": {}
      },
      "source": [
        "num_lily_tr = len(os.listdir(train_lily_dir_new))\n",
        "num_carol_tr = len(os.listdir(train_carol_dir_new))\n",
        "\n",
        "num_lily_val = len(os.listdir(validation_lily_dir_new))\n",
        "num_carol_val = len(os.listdir(validation_carol_dir_new))\n",
        "\n",
        "total_train = num_lily_tr + num_carol_tr\n",
        "total_val = num_lily_val + num_carol_val"
      ],
      "execution_count": 0,
      "outputs": []
    },
    {
      "cell_type": "code",
      "metadata": {
        "id": "6QbcgjYPnk5P",
        "colab_type": "code",
        "colab": {}
      },
      "source": [
        "# For convenience, set up variables to use while pre-processing the dataset and training the network.\n",
        "\n",
        "batch_size = 2\n",
        "epochs = 10\n",
        "IMG_HEIGHT = 150\n",
        "IMG_WIDTH = 150"
      ],
      "execution_count": 0,
      "outputs": []
    },
    {
      "cell_type": "code",
      "metadata": {
        "id": "_O7yZNZroLuc",
        "colab_type": "code",
        "colab": {}
      },
      "source": [
        "train_image_generator = ImageDataGenerator(rescale=1./255) # Generator for our training data"
      ],
      "execution_count": 0,
      "outputs": []
    },
    {
      "cell_type": "code",
      "metadata": {
        "id": "ETqfjcayIUPg",
        "colab_type": "code",
        "colab": {}
      },
      "source": [
        "#image_gen_train = ImageDataGenerator(\n",
        "          #          rescale=1./255,\n",
        "             #      rotation_range=45,\n",
        "               #     width_shift_range=.15,\n",
        "               #     height_shift_range=.15,\n",
        "               #     horizontal_flip=True,\n",
        "               #     zoom_range=0.5\n",
        "              #      ) # only apply augmentation to training set"
      ],
      "execution_count": 0,
      "outputs": []
    },
    {
      "cell_type": "code",
      "metadata": {
        "id": "TDk-2mHjoh1q",
        "colab_type": "code",
        "outputId": "5f65960f-3753-4d7f-a6f2-ef56998fc3fd",
        "colab": {
          "base_uri": "https://localhost:8080/",
          "height": 34
        }
      },
      "source": [
        "train_data_gen = train_image_generator.flow_from_directory(batch_size=batch_size,\n",
        "                                                           directory=train_dir_new,\n",
        "                                                           shuffle=True,\n",
        "                                                           target_size=(IMG_HEIGHT, IMG_WIDTH),\n",
        "                                                           class_mode='binary')"
      ],
      "execution_count": 17,
      "outputs": [
        {
          "output_type": "stream",
          "text": [
            "Found 8 images belonging to 2 classes.\n"
          ],
          "name": "stdout"
        }
      ]
    },
    {
      "cell_type": "code",
      "metadata": {
        "id": "i--YRv-2FU9q",
        "colab_type": "code",
        "outputId": "896a265e-d18a-4662-d556-b8bc4e454456",
        "colab": {
          "base_uri": "https://localhost:8080/",
          "height": 102
        }
      },
      "source": [
        "ls -al data/train"
      ],
      "execution_count": 27,
      "outputs": [
        {
          "output_type": "stream",
          "text": [
            "total 16\n",
            "drwxr-xr-x 4 root root 4096 Mar 18 10:52 \u001b[0m\u001b[01;34m.\u001b[0m/\n",
            "drwxr-xr-x 4 root root 4096 Mar 18 10:34 \u001b[01;34m..\u001b[0m/\n",
            "drwxr-xr-x 2 root root 4096 Mar 18 10:50 \u001b[01;34mCarol\u001b[0m/\n",
            "drwxr-xr-x 2 root root 4096 Mar 18 10:50 \u001b[01;34mLily\u001b[0m/\n"
          ],
          "name": "stdout"
        }
      ]
    },
    {
      "cell_type": "code",
      "metadata": {
        "id": "qgSyO4sZFddX",
        "colab_type": "code",
        "colab": {}
      },
      "source": [
        "os.rmdir('data/train/.ipynb_checkpoints/')"
      ],
      "execution_count": 0,
      "outputs": []
    },
    {
      "cell_type": "code",
      "metadata": {
        "id": "Bma_ZjlbI6Bu",
        "colab_type": "code",
        "colab": {}
      },
      "source": [
        "validation_image_generator = ImageDataGenerator(rescale=1./255) # Generator for our validation data"
      ],
      "execution_count": 0,
      "outputs": []
    },
    {
      "cell_type": "code",
      "metadata": {
        "id": "v_WUIIDsqHPA",
        "colab_type": "code",
        "outputId": "dfac7733-50f3-4dec-9987-3734285bec9d",
        "colab": {
          "base_uri": "https://localhost:8080/",
          "height": 34
        }
      },
      "source": [
        "val_data_gen = validation_image_generator.flow_from_directory(batch_size=batch_size,\n",
        "                                                              directory=validation_dir_new,\n",
        "                                                              target_size=(IMG_HEIGHT, IMG_WIDTH),\n",
        "                                                              class_mode='binary')"
      ],
      "execution_count": 19,
      "outputs": [
        {
          "output_type": "stream",
          "text": [
            "Found 7 images belonging to 2 classes.\n"
          ],
          "name": "stdout"
        }
      ]
    },
    {
      "cell_type": "code",
      "metadata": {
        "id": "ghlRMu2OGBNM",
        "colab_type": "code",
        "outputId": "a58f5ca4-af06-482a-b681-96ba67357a69",
        "colab": {
          "base_uri": "https://localhost:8080/",
          "height": 119
        }
      },
      "source": [
        "ls -al data/validation"
      ],
      "execution_count": 31,
      "outputs": [
        {
          "output_type": "stream",
          "text": [
            "total 20\n",
            "drwxr-xr-x 5 root root 4096 Mar 18 10:50 \u001b[0m\u001b[01;34m.\u001b[0m/\n",
            "drwxr-xr-x 4 root root 4096 Mar 18 10:34 \u001b[01;34m..\u001b[0m/\n",
            "drwxr-xr-x 2 root root 4096 Mar 18 10:50 \u001b[01;34mCarol\u001b[0m/\n",
            "drwxr-xr-x 2 root root 4096 Mar 18 10:41 \u001b[01;34m.ipynb_checkpoints\u001b[0m/\n",
            "drwxr-xr-x 2 root root 4096 Mar 18 10:50 \u001b[01;34mLily\u001b[0m/\n"
          ],
          "name": "stdout"
        }
      ]
    },
    {
      "cell_type": "code",
      "metadata": {
        "id": "cVRj1m_wGE3a",
        "colab_type": "code",
        "colab": {}
      },
      "source": [
        "os.rmdir('data/validation/.ipynb_checkpoints/')"
      ],
      "execution_count": 0,
      "outputs": []
    },
    {
      "cell_type": "markdown",
      "metadata": {
        "id": "-AkT_116qONr",
        "colab_type": "text"
      },
      "source": [
        "Step 4. Visualize training images"
      ]
    },
    {
      "cell_type": "code",
      "metadata": {
        "id": "rGFSbYgyqQb4",
        "colab_type": "code",
        "colab": {}
      },
      "source": [
        "sample_training_images, _ = next(train_data_gen)\n"
      ],
      "execution_count": 0,
      "outputs": []
    },
    {
      "cell_type": "code",
      "metadata": {
        "id": "nssebKkjqaGg",
        "colab_type": "code",
        "colab": {}
      },
      "source": [
        "# This function will plot images in the form of a grid with 1 row and 5 columns where images are placed in each column.\n",
        "def plotImages(images_arr):\n",
        "    fig, axes = plt.subplots(1, 5, figsize=(20,20))\n",
        "    axes = axes.flatten()\n",
        "    for img, ax in zip( images_arr, axes):\n",
        "        ax.imshow(img)\n",
        "        ax.axis('off')\n",
        "    plt.tight_layout()\n",
        "    plt.show()"
      ],
      "execution_count": 0,
      "outputs": []
    },
    {
      "cell_type": "code",
      "metadata": {
        "id": "QOvlB5hwqh4c",
        "colab_type": "code",
        "outputId": "c59dec4a-c82a-4d13-fa9e-134f6440c8d2",
        "colab": {
          "base_uri": "https://localhost:8080/",
          "height": 1000
        }
      },
      "source": [
        "plotImages(sample_training_images[:2])\n"
      ],
      "execution_count": 22,
      "outputs": [
        {
          "output_type": "display_data",
          "data": {
            "image/png": "[encoded data removed]",
            "text/plain": [
              "<Figure size 1440x1440 with 5 Axes>"
            ]
          },
          "metadata": {
            "tags": []
          }
        }
      ]
    },
    {
      "cell_type": "markdown",
      "metadata": {
        "id": "TAdjCbw4qmAd",
        "colab_type": "text"
      },
      "source": [
        "Step 5. Create the model"
      ]
    },
    {
      "cell_type": "code",
      "metadata": {
        "id": "1ao2o3Iqqrll",
        "colab_type": "code",
        "colab": {
          "base_uri": "https://localhost:8080/",
          "height": 88
        },
        "outputId": "86b384b9-ebfd-42a0-f027-a51373a33aa8"
      },
      "source": [
        "# The model consists of three convolution blocks with a max pool layer in each of them. \n",
        "#There's a fully connected layer with 512 units on top of it that is activated by a relu activation function.\n",
        "\n",
        "model = Sequential([\n",
        "    Conv2D(16, 3, padding='same', activation='relu', input_shape=(IMG_HEIGHT, IMG_WIDTH ,3)),\n",
        "    MaxPooling2D(),    \n",
        "    Dropout(0.2),\n",
        "    Conv2D(32, 3, padding='same', activation='relu'),\n",
        "    MaxPooling2D(),\n",
        "    Conv2D(64, 3, padding='same', activation='relu'),\n",
        "    MaxPooling2D(),\n",
        "    Dropout(0.2),\n",
        "    Flatten(),\n",
        "    Dense(512, activation='relu'),\n",
        "    Dense(1)\n",
        "])"
      ],
      "execution_count": 23,
      "outputs": [
        {
          "output_type": "stream",
          "text": [
            "WARNING:tensorflow:From /tensorflow-1.15.0/python3.6/tensorflow_core/python/ops/resource_variable_ops.py:1630: calling BaseResourceVariable.__init__ (from tensorflow.python.ops.resource_variable_ops) with constraint is deprecated and will be removed in a future version.\n",
            "Instructions for updating:\n",
            "If using Keras pass *_constraint arguments to layers.\n"
          ],
          "name": "stdout"
        }
      ]
    },
    {
      "cell_type": "code",
      "metadata": {
        "id": "7up2ULBCq2nY",
        "colab_type": "code",
        "colab": {
          "base_uri": "https://localhost:8080/",
          "height": 88
        },
        "outputId": "0bfd1614-bff0-4ab8-ca5c-8212cfb2ad1d"
      },
      "source": [
        "# compile model\n",
        "model.compile(optimizer='adam',\n",
        "              loss=tf.keras.losses.BinaryCrossentropy(from_logits=True),\n",
        "              metrics=['accuracy'])"
      ],
      "execution_count": 24,
      "outputs": [
        {
          "output_type": "stream",
          "text": [
            "WARNING:tensorflow:From /tensorflow-1.15.0/python3.6/tensorflow_core/python/ops/nn_impl.py:183: where (from tensorflow.python.ops.array_ops) is deprecated and will be removed in a future version.\n",
            "Instructions for updating:\n",
            "Use tf.where in 2.0, which has the same broadcast rule as np.where\n"
          ],
          "name": "stdout"
        }
      ]
    },
    {
      "cell_type": "code",
      "metadata": {
        "id": "wirjgSB4q_g2",
        "colab_type": "code",
        "outputId": "17839ed1-73ea-421b-bda9-9c4bdcbaebaf",
        "colab": {
          "base_uri": "https://localhost:8080/",
          "height": 527
        }
      },
      "source": [
        "# model summary\n",
        "model.summary()\n"
      ],
      "execution_count": 25,
      "outputs": [
        {
          "output_type": "stream",
          "text": [
            "Model: \"sequential\"\n",
            "_________________________________________________________________\n",
            "Layer (type)                 Output Shape              Param #   \n",
            "=================================================================\n",
            "conv2d (Conv2D)              (None, 150, 150, 16)      448       \n",
            "_________________________________________________________________\n",
            "max_pooling2d (MaxPooling2D) (None, 75, 75, 16)        0         \n",
            "_________________________________________________________________\n",
            "dropout (Dropout)            (None, 75, 75, 16)        0         \n",
            "_________________________________________________________________\n",
            "conv2d_1 (Conv2D)            (None, 75, 75, 32)        4640      \n",
            "_________________________________________________________________\n",
            "max_pooling2d_1 (MaxPooling2 (None, 37, 37, 32)        0         \n",
            "_________________________________________________________________\n",
            "conv2d_2 (Conv2D)            (None, 37, 37, 64)        18496     \n",
            "_________________________________________________________________\n",
            "max_pooling2d_2 (MaxPooling2 (None, 18, 18, 64)        0         \n",
            "_________________________________________________________________\n",
            "dropout_1 (Dropout)          (None, 18, 18, 64)        0         \n",
            "_________________________________________________________________\n",
            "flatten (Flatten)            (None, 20736)             0         \n",
            "_________________________________________________________________\n",
            "dense (Dense)                (None, 512)               10617344  \n",
            "_________________________________________________________________\n",
            "dense_1 (Dense)              (None, 1)                 513       \n",
            "=================================================================\n",
            "Total params: 10,641,441\n",
            "Trainable params: 10,641,441\n",
            "Non-trainable params: 0\n",
            "_________________________________________________________________\n"
          ],
          "name": "stdout"
        }
      ]
    },
    {
      "cell_type": "markdown",
      "metadata": {
        "id": "I5rZLfu8rVVq",
        "colab_type": "text"
      },
      "source": [
        "Step 5. Train the model"
      ]
    },
    {
      "cell_type": "code",
      "metadata": {
        "id": "pg34Ki0OrY5F",
        "colab_type": "code",
        "outputId": "6d8131a0-8f43-43b1-e732-8893efefcc16",
        "colab": {
          "base_uri": "https://localhost:8080/",
          "height": 547
        }
      },
      "source": [
        "history = model.fit_generator(\n",
        "    train_data_gen,\n",
        "    steps_per_epoch=total_train // batch_size,\n",
        "    epochs=epochs,\n",
        "    validation_data=val_data_gen,\n",
        "    validation_steps=total_val // batch_size\n",
        ")"
      ],
      "execution_count": 26,
      "outputs": [
        {
          "output_type": "stream",
          "text": [
            "Epoch 1/10\n",
            "3/4 [=====================>........] - ETA: 0s - loss: 8.2015 - acc: 0.1667     Epoch 1/10\n",
            "4/4 [==============================] - 2s 481ms/step - loss: 6.3215 - acc: 0.2500 - val_loss: 1.1735 - val_acc: 0.3333\n",
            "Epoch 2/10\n",
            "3/4 [=====================>........] - ETA: 0s - loss: 1.0599 - acc: 0.5000Epoch 1/10\n",
            "4/4 [==============================] - 1s 240ms/step - loss: 0.9842 - acc: 0.5000 - val_loss: 0.7389 - val_acc: 0.3333\n",
            "Epoch 3/10\n",
            "3/4 [=====================>........] - ETA: 0s - loss: 0.6391 - acc: 0.6667Epoch 1/10\n",
            "4/4 [==============================] - 1s 199ms/step - loss: 0.6730 - acc: 0.5000 - val_loss: 0.6889 - val_acc: 0.3333\n",
            "Epoch 4/10\n",
            "3/4 [=====================>........] - ETA: 0s - loss: 0.6718 - acc: 0.3333Epoch 1/10\n",
            "4/4 [==============================] - 1s 201ms/step - loss: 0.7092 - acc: 0.5000 - val_loss: 0.6663 - val_acc: 0.3333\n",
            "Epoch 5/10\n",
            "3/4 [=====================>........] - ETA: 0s - loss: 0.6751 - acc: 0.3333Epoch 1/10\n",
            "4/4 [==============================] - 1s 234ms/step - loss: 0.7029 - acc: 0.5000 - val_loss: 0.6753 - val_acc: 0.3333\n",
            "Epoch 6/10\n",
            "3/4 [=====================>........] - ETA: 0s - loss: 0.6973 - acc: 0.5000Epoch 1/10\n",
            "4/4 [==============================] - 1s 224ms/step - loss: 0.6965 - acc: 0.5000 - val_loss: 0.6835 - val_acc: 0.3333\n",
            "Epoch 7/10\n",
            "3/4 [=====================>........] - ETA: 0s - loss: 0.7084 - acc: 0.6667Epoch 1/10\n",
            "4/4 [==============================] - 1s 237ms/step - loss: 0.7028 - acc: 0.5000 - val_loss: 0.6893 - val_acc: 0.3333\n",
            "Epoch 8/10\n",
            "3/4 [=====================>........] - ETA: 0s - loss: 0.6970 - acc: 0.5000Epoch 1/10\n",
            "4/4 [==============================] - 1s 214ms/step - loss: 0.6976 - acc: 0.5000 - val_loss: 0.6906 - val_acc: 0.3333\n",
            "Epoch 9/10\n",
            "3/4 [=====================>........] - ETA: 0s - loss: 0.6881 - acc: 0.3333    Epoch 1/10\n",
            "4/4 [==============================] - 1s 218ms/step - loss: 0.6941 - acc: 0.5000 - val_loss: 0.6908 - val_acc: 0.3333\n",
            "Epoch 10/10\n",
            "3/4 [=====================>........] - ETA: 0s - loss: 0.6866 - acc: 0.3333Epoch 1/10\n",
            "4/4 [==============================] - 1s 206ms/step - loss: 0.6929 - acc: 0.5000 - val_loss: 0.6911 - val_acc: 0.3333\n"
          ],
          "name": "stdout"
        }
      ]
    },
    {
      "cell_type": "markdown",
      "metadata": {
        "id": "4TogmHPjsU7t",
        "colab_type": "text"
      },
      "source": [
        "Step 6. Visualize training results"
      ]
    },
    {
      "cell_type": "code",
      "metadata": {
        "id": "NhfJfOELruD1",
        "colab_type": "code",
        "outputId": "300f83da-0a31-4040-a3ec-d20064c1ea5c",
        "colab": {
          "base_uri": "https://localhost:8080/",
          "height": 499
        }
      },
      "source": [
        "acc = history.history['acc']\n",
        "val_acc = history.history['val_acc']\n",
        "\n",
        "loss=history.history['loss']\n",
        "val_loss=history.history['val_loss']\n",
        "\n",
        "epochs_range = range(epochs)\n",
        "\n",
        "plt.figure(figsize=(8, 8))\n",
        "plt.subplot(1, 2, 1)\n",
        "plt.plot(epochs_range, acc, label='Training Accuracy')\n",
        "plt.plot(epochs_range, val_acc, label='Validation Accuracy')\n",
        "plt.legend(loc='lower right')\n",
        "plt.title('Training and Validation Accuracy')\n",
        "\n",
        "plt.subplot(1, 2, 2)\n",
        "plt.plot(epochs_range, loss, label='Training Loss')\n",
        "plt.plot(epochs_range, val_loss, label='Validation Loss')\n",
        "plt.legend(loc='upper right')\n",
        "plt.title('Training and Validation Loss')\n",
        "plt.show()"
      ],
      "execution_count": 27,
      "outputs": [
        {
          "output_type": "display_data",
          "data": {
            "image/png": "[encoded data removed]",
            "text/plain": [
              "<Figure size 576x576 with 2 Axes>"
            ]
          },
          "metadata": {
            "tags": []
          }
        }
      ]
    },
    {
      "cell_type": "markdown",
      "metadata": {
        "id": "JfQCA8VWHXyK",
        "colab_type": "text"
      },
      "source": [
        "Obviously, there is overfitting due to the big difference between the training and validation accuracy. I've already tried applying augmentation to training datasets and dropout for the neural network. The validation accuracy has improved after the using dropout but dropped after using augmentation. Therefore, I maintained dropout in the model but deleted augmentation in the training sets. In addition, the data sample is too small to make it well-trained although the algorithms seems fine."
      ]
    }
  ]
}